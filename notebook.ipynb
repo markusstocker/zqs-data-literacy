{
 "cells": [
  {
   "cell_type": "markdown",
   "id": "619f3292-b0a9-4491-9feb-419e265e685d",
   "metadata": {},
   "source": [
    "# Visualised: How SARS-CoV-2 compares to other infectious diseases\n",
    "## LUH ZQS Data Literacy Seminar, March 7, 2022"
   ]
  },
  {
   "cell_type": "markdown",
   "id": "5518f5d3-3620-4734-88c4-0e2978eb537a",
   "metadata": {},
   "source": [
    "In this exercise we use a few data sources to compare SARS-CoV-2 to other infectious diseases using basic data processing and visualization using Python. The exercise is inspired by a 2014 [The Guardian visualization](https://www.theguardian.com/news/datablog/ng-interactive/2014/oct/15/visualised-how-ebola-compares-to-other-infectious-diseases) that compared Ebola with other infectious diseases.\n",
    "\n",
    "The data sources include:\n",
    "* The Microbe Scope data published by The Guardian available at [bit.ly/KIB_Microbescope](https://bit.ly/KIB_Microbescope). A copy of this dataset is included (see `data.csv`).\n",
    "* [ORKG](https://orkg.org) Comparisons for SARS-CoV-2 [basic reproductive rate](https://www.orkg.org/orkg/comparison/R44930) and [case fatality rate](https://www.orkg.org/orkg/comparison/R41466)\n",
    "\n",
    "To make this exercise interactive and fun, you'll need to fill the occasional `[BLANKS]` in the code before you can execute it.\n",
    "\n",
    "Let's get started ..."
   ]
  },
  {
   "cell_type": "markdown",
   "id": "740d68b2-4ce7-4a44-96de-ea5be994fe46",
   "metadata": {},
   "source": [
    "First we need to import a few libraries we will need in our code"
   ]
  },
  {
   "cell_type": "code",
   "execution_count": 51,
   "id": "72e467f3-6376-4f9e-b4e5-2fd5c3ef7535",
   "metadata": {},
   "outputs": [],
   "source": [
    "import numpy as np\n",
    "import pandas as pd\n",
    "import matplotlib.pyplot as plt\n",
    "from orkg import ORKG"
   ]
  },
  {
   "cell_type": "markdown",
   "id": "32ca3e8b-91f3-48e7-8028-08c90ffc1d5c",
   "metadata": {},
   "source": [
    "Now let's read the Microbe Scope `data.csv` and get its shape, i.e. the number of rows and columns."
   ]
  },
  {
   "cell_type": "code",
   "execution_count": 2,
   "id": "d0ed2b43-8a59-497c-bbc5-71ac9011786d",
   "metadata": {},
   "outputs": [
    {
     "data": {
      "text/plain": [
       "(42, 40)"
      ]
     },
     "execution_count": 2,
     "metadata": {},
     "output_type": "execute_result"
    }
   ],
   "source": [
    "df_microbe_scope = pd.read_csv('data.csv', skiprows=[1]) # Replace [FILENAME] accordingly\n",
    "df_microbe_scope.shape"
   ]
  },
  {
   "cell_type": "markdown",
   "id": "1bd6a434-3652-43f9-9b5c-76a7cc9e06c4",
   "metadata": {},
   "source": [
    "... and take a look at the data."
   ]
  },
  {
   "cell_type": "code",
   "execution_count": 3,
   "id": "12f6d90b-7ca5-4ff5-b609-0929e21681c0",
   "metadata": {},
   "outputs": [
    {
     "data": {
      "text/html": [
       "<div>\n",
       "<style scoped>\n",
       "    .dataframe tbody tr th:only-of-type {\n",
       "        vertical-align: middle;\n",
       "    }\n",
       "\n",
       "    .dataframe tbody tr th {\n",
       "        vertical-align: top;\n",
       "    }\n",
       "\n",
       "    .dataframe thead th {\n",
       "        text-align: right;\n",
       "    }\n",
       "</style>\n",
       "<table border=\"1\" class=\"dataframe\">\n",
       "  <thead>\n",
       "    <tr style=\"text-align: right;\">\n",
       "      <th></th>\n",
       "      <th>Unnamed: 0</th>\n",
       "      <th>case fatality rate</th>\n",
       "      <th>average basic reproductive rate</th>\n",
       "      <th>primary mode of transmission</th>\n",
       "      <th>survival time on surfaces</th>\n",
       "      <th>survival in ideal conditions (ie. blood, faeces)</th>\n",
       "      <th>note</th>\n",
       "      <th>pathogen type</th>\n",
       "      <th>infectious dose</th>\n",
       "      <th>average incubation period</th>\n",
       "      <th>...</th>\n",
       "      <th>yearly fatalities.4</th>\n",
       "      <th>http://www.who.int/healthinfo/global_burden_disease/estimates/en/index1.html</th>\n",
       "      <th>http://www.cdc.gov/mmwr/PDF/wk/mm6153.pdf</th>\n",
       "      <th>http://en.wikipedia.org/wiki/Human_mortality_from_H5N1</th>\n",
       "      <th>individual links given in hidden columns to right, where different</th>\n",
       "      <th>Unnamed: 35</th>\n",
       "      <th>Unnamed: 36</th>\n",
       "      <th>infectious dose.1</th>\n",
       "      <th>Unnamed: 38</th>\n",
       "      <th>Unnamed: 39</th>\n",
       "    </tr>\n",
       "  </thead>\n",
       "  <tbody>\n",
       "    <tr>\n",
       "      <th>0</th>\n",
       "      <td>Anthrax (untreated)</td>\n",
       "      <td>20.0</td>\n",
       "      <td>6.5</td>\n",
       "      <td>airborne</td>\n",
       "      <td>NaN</td>\n",
       "      <td>70 years!</td>\n",
       "      <td>NaN</td>\n",
       "      <td>bacterium</td>\n",
       "      <td>100,000</td>\n",
       "      <td>NaN</td>\n",
       "      <td>...</td>\n",
       "      <td>https://www.ll.mit.edu/publications/journal/pd...</td>\n",
       "      <td>NaN</td>\n",
       "      <td>NaN</td>\n",
       "      <td>NaN</td>\n",
       "      <td>NaN</td>\n",
       "      <td>NaN</td>\n",
       "      <td>NaN</td>\n",
       "      <td>http://en.wikipedia.org/wiki/Infectious_dose</td>\n",
       "      <td>NaN</td>\n",
       "      <td>NaN</td>\n",
       "    </tr>\n",
       "    <tr>\n",
       "      <th>1</th>\n",
       "      <td>Bird Flu (H5N1)</td>\n",
       "      <td>60.0</td>\n",
       "      <td>1.0</td>\n",
       "      <td>airborne droplet</td>\n",
       "      <td>2.0</td>\n",
       "      <td>35</td>\n",
       "      <td>NaN</td>\n",
       "      <td>virus</td>\n",
       "      <td>unknown</td>\n",
       "      <td>NaN</td>\n",
       "      <td>...</td>\n",
       "      <td>http://www.phac-aspc.gc.ca/lab-bio/res/psds-ft...</td>\n",
       "      <td>http://www.nature.com/srep/2013/130710/srep021...</td>\n",
       "      <td>NaN</td>\n",
       "      <td>NaN</td>\n",
       "      <td>NaN</td>\n",
       "      <td>NaN</td>\n",
       "      <td>NaN</td>\n",
       "      <td>https://microbewiki.kenyon.edu/index.php/H5N1_...</td>\n",
       "      <td>NaN</td>\n",
       "      <td>NaN</td>\n",
       "    </tr>\n",
       "    <tr>\n",
       "      <th>2</th>\n",
       "      <td>Bubonic Plague (untreated)</td>\n",
       "      <td>60.0</td>\n",
       "      <td>1.0</td>\n",
       "      <td>bites</td>\n",
       "      <td>3.0</td>\n",
       "      <td>100</td>\n",
       "      <td>human blood</td>\n",
       "      <td>bacterium</td>\n",
       "      <td>100</td>\n",
       "      <td>NaN</td>\n",
       "      <td>...</td>\n",
       "      <td>http://www.plosone.org/article/info%3Adoi%2F10...</td>\n",
       "      <td>NaN</td>\n",
       "      <td>NaN</td>\n",
       "      <td>NaN</td>\n",
       "      <td>NaN</td>\n",
       "      <td>NaN</td>\n",
       "      <td>NaN</td>\n",
       "      <td>http://www.cdc.gov/biosafety/publications/bmbl...</td>\n",
       "      <td>NaN</td>\n",
       "      <td>NaN</td>\n",
       "    </tr>\n",
       "  </tbody>\n",
       "</table>\n",
       "<p>3 rows × 40 columns</p>\n",
       "</div>"
      ],
      "text/plain": [
       "                   Unnamed: 0  case fatality rate   \\\n",
       "0         Anthrax (untreated)                 20.0   \n",
       "1             Bird Flu (H5N1)                 60.0   \n",
       "2  Bubonic Plague (untreated)                 60.0   \n",
       "\n",
       "   average basic reproductive rate  primary mode of transmission   \\\n",
       "0                               6.5                      airborne   \n",
       "1                               1.0              airborne droplet   \n",
       "2                               1.0                         bites   \n",
       "\n",
       "   survival time on surfaces survival in ideal conditions (ie. blood, faeces)  \\\n",
       "0                        NaN                                        70 years!   \n",
       "1                        2.0                                               35   \n",
       "2                        3.0                                              100   \n",
       "\n",
       "          note pathogen type infectious dose  average incubation period  ...  \\\n",
       "0          NaN     bacterium         100,000                        NaN  ...   \n",
       "1          NaN         virus         unknown                        NaN  ...   \n",
       "2  human blood     bacterium             100                        NaN  ...   \n",
       "\n",
       "                                 yearly fatalities.4  \\\n",
       "0  https://www.ll.mit.edu/publications/journal/pd...   \n",
       "1  http://www.phac-aspc.gc.ca/lab-bio/res/psds-ft...   \n",
       "2  http://www.plosone.org/article/info%3Adoi%2F10...   \n",
       "\n",
       "  http://www.who.int/healthinfo/global_burden_disease/estimates/en/index1.html  \\\n",
       "0                                                NaN                             \n",
       "1  http://www.nature.com/srep/2013/130710/srep021...                             \n",
       "2                                                NaN                             \n",
       "\n",
       "   http://www.cdc.gov/mmwr/PDF/wk/mm6153.pdf  \\\n",
       "0                                        NaN   \n",
       "1                                        NaN   \n",
       "2                                        NaN   \n",
       "\n",
       "  http://en.wikipedia.org/wiki/Human_mortality_from_H5N1  \\\n",
       "0                                                NaN       \n",
       "1                                                NaN       \n",
       "2                                                NaN       \n",
       "\n",
       "  individual links given in hidden columns to right, where different  \\\n",
       "0                                                NaN                   \n",
       "1                                                NaN                   \n",
       "2                                                NaN                   \n",
       "\n",
       "  Unnamed: 35 Unnamed: 36                                  infectious dose.1  \\\n",
       "0         NaN         NaN       http://en.wikipedia.org/wiki/Infectious_dose   \n",
       "1         NaN         NaN  https://microbewiki.kenyon.edu/index.php/H5N1_...   \n",
       "2         NaN         NaN  http://www.cdc.gov/biosafety/publications/bmbl...   \n",
       "\n",
       "  Unnamed: 38 Unnamed: 39  \n",
       "0         NaN         NaN  \n",
       "1         NaN         NaN  \n",
       "2         NaN         NaN  \n",
       "\n",
       "[3 rows x 40 columns]"
      ]
     },
     "execution_count": 3,
     "metadata": {},
     "output_type": "execute_result"
    }
   ],
   "source": [
    "df_microbe_scope.head(3)"
   ]
  },
  {
   "cell_type": "markdown",
   "id": "ca3aca0b-5cdd-4ba8-88a4-8c9916696cd8",
   "metadata": {},
   "source": [
    "Of particular interest are the first three columns including the disease name, the case fatality rate and the average basic reproductive rate. \n",
    "\n",
    "Let's select and rename them. \n",
    "\n",
    "Take a look at the shape and explain what happenend: Why is the second number different compared to before?"
   ]
  },
  {
   "cell_type": "code",
   "execution_count": 4,
   "id": "98c3fa20-d729-44a6-8f35-0cd34d23f646",
   "metadata": {},
   "outputs": [
    {
     "data": {
      "text/plain": [
       "(42, 3)"
      ]
     },
     "execution_count": 4,
     "metadata": {},
     "output_type": "execute_result"
    }
   ],
   "source": [
    "df_microbe_scope = df_microbe_scope.iloc[:, 0:3] # Replace [FROM_COLUMN] and [TO_COLUMN]; Hint: index starts with zero and the ending index is excluded\n",
    "df_microbe_scope.columns = ['disease', 'case_fatality_rate', 'basic_reproductive_rate']\n",
    "df_microbe_scope.shape"
   ]
  },
  {
   "cell_type": "code",
   "execution_count": 5,
   "id": "0c7fc0f3-6c8f-4894-8b36-42ebf7f395fb",
   "metadata": {},
   "outputs": [
    {
     "data": {
      "text/html": [
       "<div>\n",
       "<style scoped>\n",
       "    .dataframe tbody tr th:only-of-type {\n",
       "        vertical-align: middle;\n",
       "    }\n",
       "\n",
       "    .dataframe tbody tr th {\n",
       "        vertical-align: top;\n",
       "    }\n",
       "\n",
       "    .dataframe thead th {\n",
       "        text-align: right;\n",
       "    }\n",
       "</style>\n",
       "<table border=\"1\" class=\"dataframe\">\n",
       "  <thead>\n",
       "    <tr style=\"text-align: right;\">\n",
       "      <th></th>\n",
       "      <th>disease</th>\n",
       "      <th>case_fatality_rate</th>\n",
       "      <th>basic_reproductive_rate</th>\n",
       "    </tr>\n",
       "  </thead>\n",
       "  <tbody>\n",
       "    <tr>\n",
       "      <th>0</th>\n",
       "      <td>Anthrax (untreated)</td>\n",
       "      <td>20.0</td>\n",
       "      <td>6.5</td>\n",
       "    </tr>\n",
       "    <tr>\n",
       "      <th>1</th>\n",
       "      <td>Bird Flu (H5N1)</td>\n",
       "      <td>60.0</td>\n",
       "      <td>1.0</td>\n",
       "    </tr>\n",
       "    <tr>\n",
       "      <th>2</th>\n",
       "      <td>Bubonic Plague (untreated)</td>\n",
       "      <td>60.0</td>\n",
       "      <td>1.0</td>\n",
       "    </tr>\n",
       "  </tbody>\n",
       "</table>\n",
       "</div>"
      ],
      "text/plain": [
       "                      disease  case_fatality_rate  basic_reproductive_rate\n",
       "0         Anthrax (untreated)                20.0                      6.5\n",
       "1             Bird Flu (H5N1)                60.0                      1.0\n",
       "2  Bubonic Plague (untreated)                60.0                      1.0"
      ]
     },
     "execution_count": 5,
     "metadata": {},
     "output_type": "execute_result"
    }
   ],
   "source": [
    "df_microbe_scope.head(3)"
   ]
  },
  {
   "cell_type": "markdown",
   "id": "a4599f67-c4e9-4992-85f9-ef6b3f8798bc",
   "metadata": {},
   "source": [
    "Next, we compute some descriptive statistics for case fatality and basic reproductive rates.\n",
    "\n",
    "Let's do mean and max case fatality rate first."
   ]
  },
  {
   "cell_type": "code",
   "execution_count": 6,
   "id": "74ca85c9-12c9-471f-9d14-4401d4db8eee",
   "metadata": {},
   "outputs": [
    {
     "data": {
      "text/plain": [
       "17.920238095238094"
      ]
     },
     "execution_count": 6,
     "metadata": {},
     "output_type": "execute_result"
    }
   ],
   "source": [
    "df_microbe_scope['case_fatality_rate'].mean()"
   ]
  },
  {
   "cell_type": "code",
   "execution_count": 7,
   "id": "ecce75ea-393a-4e4b-8582-e1e7f6dc867e",
   "metadata": {},
   "outputs": [
    {
     "data": {
      "text/plain": [
       "100.0"
      ]
     },
     "execution_count": 7,
     "metadata": {},
     "output_type": "execute_result"
    }
   ],
   "source": [
    "df_microbe_scope['case_fatality_rate'].max()"
   ]
  },
  {
   "cell_type": "markdown",
   "id": "0f7106b5-9c22-4139-998d-e93dac11d2e6",
   "metadata": {},
   "source": [
    "Now try the same for basic reproductive rate."
   ]
  },
  {
   "cell_type": "code",
   "execution_count": null,
   "id": "f781eb20-f00a-4bbe-ad13-e16ba5705da2",
   "metadata": {},
   "outputs": [],
   "source": []
  },
  {
   "cell_type": "code",
   "execution_count": null,
   "id": "f26454bb-f1f4-433c-9b95-134d55773681",
   "metadata": {},
   "outputs": [],
   "source": []
  },
  {
   "cell_type": "markdown",
   "id": "e7f611c5-750d-4a3d-bbc6-3a59d07d9a89",
   "metadata": {},
   "source": [
    "The following is a shorthand for descriptive statistics.\n",
    "\n",
    "Try it for both basic reproductive and case fatality rates and compare the values. They should be same."
   ]
  },
  {
   "cell_type": "code",
   "execution_count": 8,
   "id": "180b4a85-1ef3-494c-80fe-2baee047cd5a",
   "metadata": {},
   "outputs": [
    {
     "data": {
      "text/plain": [
       "count     42.000000\n",
       "mean      17.920238\n",
       "std       27.952920\n",
       "min        0.000000\n",
       "25%        0.350000\n",
       "50%        2.300000\n",
       "75%       21.500000\n",
       "max      100.000000\n",
       "Name: case_fatality_rate, dtype: float64"
      ]
     },
     "execution_count": 8,
     "metadata": {},
     "output_type": "execute_result"
    }
   ],
   "source": [
    "df_microbe_scope['case_fatality_rate'].describe()"
   ]
  },
  {
   "cell_type": "markdown",
   "id": "1092fdf8-551c-4394-9ceb-628864981ce0",
   "metadata": {},
   "source": [
    "Next, let's plot the data and use visualizations to understand it better.\n",
    "\n",
    "Try this for both basic reproductive and case fatality rates."
   ]
  },
  {
   "cell_type": "code",
   "execution_count": 9,
   "id": "8e321287-4c3a-46fe-b90e-ca98f1b11499",
   "metadata": {},
   "outputs": [
    {
     "data": {
      "text/plain": [
       "<AxesSubplot:ylabel='disease'>"
      ]
     },
     "execution_count": 9,
     "metadata": {},
     "output_type": "execute_result"
    },
    {
     "data": {
      "image/png": "[encoded data removed]",
      "text/plain": [
       "<Figure size 720x720 with 1 Axes>"
      ]
     },
     "metadata": {
      "needs_background": "light"
     },
     "output_type": "display_data"
    }
   ],
   "source": [
    "df_microbe_scope.plot(kind='barh', x='disease', y='basic_reproductive_rate', figsize=(10,10))"
   ]
  },
  {
   "cell_type": "markdown",
   "id": "1709a62e-a096-4a8b-a92e-22fd4cc9a478",
   "metadata": {},
   "source": [
    "That's great, but sorted would be better to quickly see the top three and how they compare to the bottom three."
   ]
  },
  {
   "cell_type": "code",
   "execution_count": 10,
   "id": "b4cb0829-4f01-4623-bfd4-644c375a036e",
   "metadata": {},
   "outputs": [
    {
     "data": {
      "text/plain": [
       "<AxesSubplot:ylabel='disease'>"
      ]
     },
     "execution_count": 10,
     "metadata": {},
     "output_type": "execute_result"
    },
    {
     "data": {
      "image/png": "[encoded data removed]",
      "text/plain": [
       "<Figure size 720x720 with 1 Axes>"
      ]
     },
     "metadata": {
      "needs_background": "light"
     },
     "output_type": "display_data"
    }
   ],
   "source": [
    "df_microbe_scope.sort_values(by='basic_reproductive_rate').plot(kind='barh', x='disease', y='basic_reproductive_rate', figsize=(10,10))"
   ]
  },
  {
   "cell_type": "markdown",
   "id": "4eaf6e3a-3f35-4f49-8b1e-0990f792ca88",
   "metadata": {},
   "source": [
    "The disease data is not univariate but multivariante, for each disease with have two variables (the two rates). \n",
    "\n",
    "It makes thus sense to visualize the diseases along both dimensions, using a scatter plot.\n",
    "\n",
    "With this we can easily identify a few characteristics:\n",
    "* Most diseases cluster in the lower left corner, meaning that most diseases tend to be on the lower ends of case fatality and basic reproduction\n",
    "* A few diseases are exceptional with respect to one dimension, either very high case fatality or very high basic reproduction\n",
    "* No disease has both high case fatality and basic reproduction\n",
    "\n",
    "Hint: With the additional parameters `logy=True` and `loglog=True` you can modify the axes to log scaling."
   ]
  },
  {
   "cell_type": "markdown",
   "id": "ef887390-af55-4bf1-9bf2-400b6f493736",
   "metadata": {},
   "source": [
    "So far we have only inspected the Microbe Scope dataset, which does not include SARS-CoV-2.\n",
    "\n",
    "The ORKG provides data extracted from the scholarly literature for SARS-CoV-2 basic reproductive rate and case fatality rate.\n",
    "\n",
    "Take a look at the two ORKG comparisons:\n",
    "* SARS-CoV-2 [basic reproductive rate](https://www.orkg.org/orkg/comparison/R44930)\n",
    "* SARS-CoV-2 [case fatality rate](https://www.orkg.org/orkg/comparison/R41466)\n",
    "\n",
    "Both comparisons include numerous published articles, each with information about these rates (see the `has value` property in the comparisons).\n",
    "\n",
    "Let's load the two comparisons into data frames. The basic reproductive rate comparison has ID R44930 while the case fatality rate has ID R41466 (see the URL of the comparisons in the browser). We need these to load the corresponding data.\n",
    "\n",
    "First, let's connect to ORKG."
   ]
  },
  {
   "cell_type": "code",
   "execution_count": 11,
   "id": "06c4d82e-9056-40ce-b9ee-45a96630ab28",
   "metadata": {},
   "outputs": [],
   "source": [
    "orkg = ORKG(host='https://orkg.org/orkg', simcomp_host='https://orkg.org/orkg/simcomp')"
   ]
  },
  {
   "cell_type": "markdown",
   "id": "0e51c08c-2f5e-4283-9f20-a7ed737639f9",
   "metadata": {},
   "source": [
    "Let's retrieve the data for the basic reproductive rate comparison first."
   ]
  },
  {
   "cell_type": "code",
   "execution_count": 65,
   "id": "968418c8-fee2-417e-8cd5-40dfc9a7acb1",
   "metadata": {},
   "outputs": [],
   "source": [
    "df_orkg_basic_reproductive_rate = orkg.contributions.compare_dataframe(comparison_id='R44930')"
   ]
  },
  {
   "cell_type": "markdown",
   "id": "d61ef8a8-8478-4994-9c88-7b24b167c3c2",
   "metadata": {},
   "source": [
    "Now we do the same for the case fatality rate comparison."
   ]
  },
  {
   "cell_type": "code",
   "execution_count": 102,
   "id": "dc87ec2a-3eeb-4c42-891d-3c550a8c05e8",
   "metadata": {},
   "outputs": [],
   "source": [
    "df_orkg_case_fatality_rate = orkg.contributions.compare_dataframe(comparison_id='R41466') # Replace [ID] accordingly"
   ]
  },
  {
   "cell_type": "markdown",
   "id": "18a68b64-5983-4ae5-94fd-dae0f46d2ab4",
   "metadata": {},
   "source": [
    "Use the following code cell to take a look at this data. Where are the titles of the compared articles and can you find the `Has value` property?"
   ]
  },
  {
   "cell_type": "code",
   "execution_count": 14,
   "id": "2d99d2ee-1115-448e-bac1-6fabbefbcf97",
   "metadata": {},
   "outputs": [
    {
     "data": {
      "text/html": [
       "<div>\n",
       "<style scoped>\n",
       "    .dataframe tbody tr th:only-of-type {\n",
       "        vertical-align: middle;\n",
       "    }\n",
       "\n",
       "    .dataframe tbody tr th {\n",
       "        vertical-align: top;\n",
       "    }\n",
       "\n",
       "    .dataframe thead th {\n",
       "        text-align: right;\n",
       "    }\n",
       "</style>\n",
       "<table border=\"1\" class=\"dataframe\">\n",
       "  <thead>\n",
       "    <tr style=\"text-align: right;\">\n",
       "      <th></th>\n",
       "      <th>The early phase of the COVID-19 outbreak in Lombardy, Italy/Contribution 1</th>\n",
       "      <th>Transmission potential of COVID-19 in Iran/Contribution 1</th>\n",
       "      <th>Transmission potential of COVID-19 in Iran/Contribution 2</th>\n",
       "      <th>Estimating the generation interval for COVID-19 based on symptom onset data/Contribution 1</th>\n",
       "      <th>Estimating the generation interval for COVID-19 based on symptom onset data/Contribution 2</th>\n",
       "      <th>Estimating the generation interval for COVID-19 based on symptom onset data/Contribution 3</th>\n",
       "      <th>Estimating the Unreported Number of Novel Coronavirus (2019-nCoV) Cases in China in the First Half of January 2020: A Data-Driven Modelling Analysis of the Early Outbreak/Contribution 1</th>\n",
       "      <th>Estimation of the Transmission Risk of the 2019-nCoV and Its Implication for Public Health Interventions/Contribution 1</th>\n",
       "      <th>Estimation of the epidemic properties of the 2019 novel coronavirus: A mathematical modeling study/Contribution 1</th>\n",
       "      <th>Estimation of the epidemic properties of the 2019 novel coronavirus: A mathematical modeling study/Contribution 2</th>\n",
       "      <th>...</th>\n",
       "      <th>Time-varying transmission dynamics of Novel Coronavirus Pneumonia in China/Contribution 1</th>\n",
       "      <th>Time-varying transmission dynamics of Novel Coronavirus Pneumonia in China/Contribution 2</th>\n",
       "      <th>Estimating the effective reproduction number of the 2019-nCoV in China/Contribution 1</th>\n",
       "      <th>Real-Time Estimation of the Risk of Death from Novel Coronavirus (COVID-19) Infection: Inference Using Exported Cases/Contribution 1</th>\n",
       "      <th>Real-Time Estimation of the Risk of Death from Novel Coronavirus (COVID-19) Infection: Inference Using Exported Cases/Contribution 2</th>\n",
       "      <th>Early Transmission Dynamics in Wuhan, China, of Novel Coronavirus–Infected Pneumonia/Contribution 1</th>\n",
       "      <th>Pattern of early human-to-human transmission of Wuhan 2019-nCoV/Contribution 1</th>\n",
       "      <th>Report 3: Transmissibility of 2019-nCoV. 2020. WHO Collaborating Centre for Infectious Disease Modelling, MRC Centre for Global Infectious Disease Analysis/Contribution 1</th>\n",
       "      <th>Transmission interval estimates suggest pre-symptomatic spread of COVID-19/Contribution 1</th>\n",
       "      <th>Transmission interval estimates suggest pre-symptomatic spread of COVID-19/Contribution 2</th>\n",
       "    </tr>\n",
       "  </thead>\n",
       "  <tbody>\n",
       "    <tr>\n",
       "      <th>Has value</th>\n",
       "      <td>3.1</td>\n",
       "      <td>3.6</td>\n",
       "      <td>3.58</td>\n",
       "      <td>1.27</td>\n",
       "      <td>1.25</td>\n",
       "      <td>1.59</td>\n",
       "      <td>2.56</td>\n",
       "      <td>6.47</td>\n",
       "      <td>4.38</td>\n",
       "      <td>3.41</td>\n",
       "      <td>...</td>\n",
       "      <td>2.9</td>\n",
       "      <td>2.92</td>\n",
       "      <td>4.08</td>\n",
       "      <td>2.1</td>\n",
       "      <td>3.2</td>\n",
       "      <td>2.2</td>\n",
       "      <td>2.2</td>\n",
       "      <td>2.5</td>\n",
       "      <td>1.97</td>\n",
       "      <td>1.87</td>\n",
       "    </tr>\n",
       "    <tr>\n",
       "      <th>Method</th>\n",
       "      <td></td>\n",
       "      <td>generalized growth model</td>\n",
       "      <td>based on the calculation of the epidemic's dou...</td>\n",
       "      <td>generation interval</td>\n",
       "      <td>serial interval</td>\n",
       "      <td>generation interval</td>\n",
       "      <td>Modelled the epidemic curve of 2019-nCoV cases...</td>\n",
       "      <td>Model-based method for estimation</td>\n",
       "      <td>a weighted average of Exponential growth, Maxi...</td>\n",
       "      <td>a weighted average of Exponential growth, Maxi...</td>\n",
       "      <td>...</td>\n",
       "      <td>Statistical exponential Growth, using SARS gen...</td>\n",
       "      <td>Statistical maximum likelihood estimation, usi...</td>\n",
       "      <td>Mathematical model including compartments Susc...</td>\n",
       "      <td></td>\n",
       "      <td></td>\n",
       "      <td>Statistical exponential growth model</td>\n",
       "      <td>Stochastic simulations of early outbreak traje...</td>\n",
       "      <td>Mathematical model, computational modelling of...</td>\n",
       "      <td></td>\n",
       "      <td></td>\n",
       "    </tr>\n",
       "    <tr>\n",
       "      <th>Time period</th>\n",
       "      <td>Time interval</td>\n",
       "      <td>Time interval</td>\n",
       "      <td>Time interval</td>\n",
       "      <td>Time interval</td>\n",
       "      <td>Time interval</td>\n",
       "      <td>Time interval</td>\n",
       "      <td>Time interval</td>\n",
       "      <td>Time interval</td>\n",
       "      <td>Time interval</td>\n",
       "      <td>Time interval</td>\n",
       "      <td>...</td>\n",
       "      <td>Time interval</td>\n",
       "      <td>Time interval</td>\n",
       "      <td>Time interval</td>\n",
       "      <td>Time interval</td>\n",
       "      <td>Time interval</td>\n",
       "      <td>Time interval</td>\n",
       "      <td>Time interval</td>\n",
       "      <td>Time interval</td>\n",
       "      <td>Time interval</td>\n",
       "      <td>Time Interval</td>\n",
       "    </tr>\n",
       "  </tbody>\n",
       "</table>\n",
       "<p>3 rows × 31 columns</p>\n",
       "</div>"
      ],
      "text/plain": [
       "            The early phase of the COVID-19 outbreak in Lombardy, Italy/Contribution 1  \\\n",
       "Has value                                                  3.1                           \n",
       "Method                                                                                   \n",
       "Time period                                      Time interval                           \n",
       "\n",
       "            Transmission potential of COVID-19 in Iran/Contribution 1  \\\n",
       "Has value                                                  3.6          \n",
       "Method                                generalized growth model          \n",
       "Time period                                      Time interval          \n",
       "\n",
       "            Transmission potential of COVID-19 in Iran/Contribution 2  \\\n",
       "Has value                                                 3.58          \n",
       "Method       based on the calculation of the epidemic's dou...          \n",
       "Time period                                      Time interval          \n",
       "\n",
       "            Estimating the generation interval for COVID-19 based on symptom onset data/Contribution 1  \\\n",
       "Has value                                                 1.27                                           \n",
       "Method                                     generation interval                                           \n",
       "Time period                                      Time interval                                           \n",
       "\n",
       "            Estimating the generation interval for COVID-19 based on symptom onset data/Contribution 2  \\\n",
       "Has value                                                 1.25                                           \n",
       "Method                                         serial interval                                           \n",
       "Time period                                      Time interval                                           \n",
       "\n",
       "            Estimating the generation interval for COVID-19 based on symptom onset data/Contribution 3  \\\n",
       "Has value                                                 1.59                                           \n",
       "Method                                     generation interval                                           \n",
       "Time period                                      Time interval                                           \n",
       "\n",
       "            Estimating the Unreported Number of Novel Coronavirus (2019-nCoV) Cases in China in the First Half of January 2020: A Data-Driven Modelling Analysis of the Early Outbreak/Contribution 1  \\\n",
       "Has value                                                 2.56                                                                                                                                          \n",
       "Method       Modelled the epidemic curve of 2019-nCoV cases...                                                                                                                                          \n",
       "Time period                                      Time interval                                                                                                                                          \n",
       "\n",
       "            Estimation of the Transmission Risk of the 2019-nCoV and Its Implication for Public Health Interventions/Contribution 1  \\\n",
       "Has value                                                 6.47                                                                        \n",
       "Method                       Model-based method for estimation                                                                        \n",
       "Time period                                      Time interval                                                                        \n",
       "\n",
       "            Estimation of the epidemic properties of the 2019 novel coronavirus: A mathematical modeling study/Contribution 1  \\\n",
       "Has value                                                 4.38                                                                  \n",
       "Method       a weighted average of Exponential growth, Maxi...                                                                  \n",
       "Time period                                      Time interval                                                                  \n",
       "\n",
       "            Estimation of the epidemic properties of the 2019 novel coronavirus: A mathematical modeling study/Contribution 2  \\\n",
       "Has value                                                 3.41                                                                  \n",
       "Method       a weighted average of Exponential growth, Maxi...                                                                  \n",
       "Time period                                      Time interval                                                                  \n",
       "\n",
       "             ...  \\\n",
       "Has value    ...   \n",
       "Method       ...   \n",
       "Time period  ...   \n",
       "\n",
       "            Time-varying transmission dynamics of Novel Coronavirus Pneumonia in China/Contribution 1  \\\n",
       "Has value                                                  2.9                                          \n",
       "Method       Statistical exponential Growth, using SARS gen...                                          \n",
       "Time period                                      Time interval                                          \n",
       "\n",
       "            Time-varying transmission dynamics of Novel Coronavirus Pneumonia in China/Contribution 2  \\\n",
       "Has value                                                 2.92                                          \n",
       "Method       Statistical maximum likelihood estimation, usi...                                          \n",
       "Time period                                      Time interval                                          \n",
       "\n",
       "            Estimating the effective reproduction number of the 2019-nCoV in China/Contribution 1  \\\n",
       "Has value                                                 4.08                                      \n",
       "Method       Mathematical model including compartments Susc...                                      \n",
       "Time period                                      Time interval                                      \n",
       "\n",
       "            Real-Time Estimation of the Risk of Death from Novel Coronavirus (COVID-19) Infection: Inference Using Exported Cases/Contribution 1  \\\n",
       "Has value                                                  2.1                                                                                     \n",
       "Method                                                                                                                                             \n",
       "Time period                                      Time interval                                                                                     \n",
       "\n",
       "            Real-Time Estimation of the Risk of Death from Novel Coronavirus (COVID-19) Infection: Inference Using Exported Cases/Contribution 2  \\\n",
       "Has value                                                  3.2                                                                                     \n",
       "Method                                                                                                                                             \n",
       "Time period                                      Time interval                                                                                     \n",
       "\n",
       "            Early Transmission Dynamics in Wuhan, China, of Novel Coronavirus–Infected Pneumonia/Contribution 1  \\\n",
       "Has value                                                  2.2                                                    \n",
       "Method                    Statistical exponential growth model                                                    \n",
       "Time period                                      Time interval                                                    \n",
       "\n",
       "            Pattern of early human-to-human transmission of Wuhan 2019-nCoV/Contribution 1  \\\n",
       "Has value                                                  2.2                               \n",
       "Method       Stochastic simulations of early outbreak traje...                               \n",
       "Time period                                      Time interval                               \n",
       "\n",
       "            Report 3: Transmissibility of 2019-nCoV. 2020. WHO Collaborating Centre for Infectious Disease Modelling, MRC Centre for Global Infectious Disease Analysis/Contribution 1  \\\n",
       "Has value                                                  2.5                                                                                                                           \n",
       "Method       Mathematical model, computational modelling of...                                                                                                                           \n",
       "Time period                                      Time interval                                                                                                                           \n",
       "\n",
       "            Transmission interval estimates suggest pre-symptomatic spread of COVID-19/Contribution 1  \\\n",
       "Has value                                                 1.97                                          \n",
       "Method                                                                                                  \n",
       "Time period                                      Time interval                                          \n",
       "\n",
       "            Transmission interval estimates suggest pre-symptomatic spread of COVID-19/Contribution 2  \n",
       "Has value                                                 1.87                                         \n",
       "Method                                                                                                 \n",
       "Time period                                      Time Interval                                         \n",
       "\n",
       "[3 rows x 31 columns]"
      ]
     },
     "execution_count": 14,
     "metadata": {},
     "output_type": "execute_result"
    }
   ],
   "source": []
  },
  {
   "cell_type": "markdown",
   "id": "95a1cacf-b46e-45eb-843d-248f3b025780",
   "metadata": {},
   "source": [
    "Now, what we actually want is the mean estimates for SARS-CoV-2 basic reproductive rate and case fatality rate as published by the numerous articles. That's easy to compute, right? \n",
    "\n",
    "Try to understand what is going on in the following line of code."
   ]
  },
  {
   "cell_type": "code",
   "execution_count": 101,
   "id": "1946f6c7-35fa-4cd2-89a2-0c26dfc38b6d",
   "metadata": {},
   "outputs": [
    {
     "data": {
      "text/plain": [
       "3.020645"
      ]
     },
     "execution_count": 101,
     "metadata": {},
     "output_type": "execute_result"
    }
   ],
   "source": [
    "orkg_basic_reproductive_rate = np.mean(df_orkg_basic_reproductive_rate.loc['Has value', :].to_numpy(dtype=np.float32))\n",
    "\n",
    "orkg_basic_reproductive_rate"
   ]
  },
  {
   "cell_type": "markdown",
   "id": "a6cefb33-b77a-4c26-aae9-7e18a72a63b0",
   "metadata": {},
   "source": [
    "... and do the same for case fatality rate, which is a bit more involved because for some articles the property `Has value` has two values."
   ]
  },
  {
   "cell_type": "code",
   "execution_count": 103,
   "id": "54673014-ede7-4ad9-99c3-9d4a467fc23e",
   "metadata": {},
   "outputs": [
    {
     "data": {
      "text/plain": [
       "4.559090909090909"
      ]
     },
     "execution_count": 103,
     "metadata": {},
     "output_type": "execute_result"
    }
   ],
   "source": [
    "df = df_orkg_case_fatality_rate.T\n",
    "df = df.iloc[:, 0:1]\n",
    "df['Has value'] = df['Has value'].str.extract(\"(\\d+(?:\\.\\d+)?)\", expand=True)\n",
    "df['Has value'] = pd.to_numeric(df['Has value'], errors='coerce')\n",
    "orkg_case_fatality_rate = df['Has value'].mean()\n",
    "\n",
    "orkg_case_fatality_rate"
   ]
  },
  {
   "cell_type": "code",
   "execution_count": null,
   "id": "06826139-7808-40a8-b9b5-cf42744492d2",
   "metadata": {},
   "outputs": [],
   "source": []
  }
 ],
 "metadata": {
  "kernelspec": {
   "display_name": "Python 3 (ipykernel)",
   "language": "python",
   "name": "python3"
  },
  "language_info": {
   "codemirror_mode": {
    "name": "ipython",
    "version": 3
   },
   "file_extension": ".py",
   "mimetype": "text/x-python",
   "name": "python",
   "nbconvert_exporter": "python",
   "pygments_lexer": "ipython3",
   "version": "3.8.10"
  }
 },
 "nbformat": 4,
 "nbformat_minor": 5
}
